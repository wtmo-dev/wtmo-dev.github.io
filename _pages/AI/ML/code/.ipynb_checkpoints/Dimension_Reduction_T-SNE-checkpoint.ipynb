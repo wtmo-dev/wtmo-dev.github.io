{
 "cells": [
  {
   "cell_type": "code",
   "execution_count": 2,
   "id": "068841e0-5d1b-4dd9-8aad-6c27e62486f9",
   "metadata": {},
   "outputs": [],
   "source": [
    "import numpy as np\n",
    "import pandas as pd\n",
    "import matplotlib.pyplot as plt\n",
    "import seaborn as sns\n",
    "import sklearn.datasets as data\n",
    "\n",
    "from sklearn.decomposition import PCA"
   ]
  },
  {
   "cell_type": "code",
   "execution_count": 3,
   "id": "34452c09-deaf-44a9-8f6b-a43a2def3805",
   "metadata": {},
   "outputs": [],
   "source": [
    "data = pd.read_csv(\"https://raw.githubusercontent.com/GonieAhn/Data-Science-online-course-from-gonie/main/Data%20Store/example_data.csv\")"
   ]
  },
  {
   "cell_type": "code",
   "execution_count": 4,
   "id": "5bb5d2b6-ddd2-41fd-8b0c-25c4d963c52b",
   "metadata": {},
   "outputs": [
    {
     "data": {
      "text/html": [
       "<div>\n",
       "<style scoped>\n",
       "    .dataframe tbody tr th:only-of-type {\n",
       "        vertical-align: middle;\n",
       "    }\n",
       "\n",
       "    .dataframe tbody tr th {\n",
       "        vertical-align: top;\n",
       "    }\n",
       "\n",
       "    .dataframe thead th {\n",
       "        text-align: right;\n",
       "    }\n",
       "</style>\n",
       "<table border=\"1\" class=\"dataframe\">\n",
       "  <thead>\n",
       "    <tr style=\"text-align: right;\">\n",
       "      <th></th>\n",
       "      <th>censor</th>\n",
       "      <th>event</th>\n",
       "      <th>age</th>\n",
       "      <th>wtkg</th>\n",
       "      <th>hemo</th>\n",
       "      <th>homo</th>\n",
       "      <th>drugs</th>\n",
       "      <th>karnof</th>\n",
       "      <th>oprior</th>\n",
       "      <th>z30</th>\n",
       "      <th>...</th>\n",
       "      <th>gender</th>\n",
       "      <th>str2</th>\n",
       "      <th>strat</th>\n",
       "      <th>symptom</th>\n",
       "      <th>cd40</th>\n",
       "      <th>cd420</th>\n",
       "      <th>cd496</th>\n",
       "      <th>r</th>\n",
       "      <th>cd80</th>\n",
       "      <th>cd820</th>\n",
       "    </tr>\n",
       "  </thead>\n",
       "  <tbody>\n",
       "    <tr>\n",
       "      <th>0</th>\n",
       "      <td>0</td>\n",
       "      <td>1090</td>\n",
       "      <td>43</td>\n",
       "      <td>66.679</td>\n",
       "      <td>0</td>\n",
       "      <td>1</td>\n",
       "      <td>0</td>\n",
       "      <td>100</td>\n",
       "      <td>0</td>\n",
       "      <td>1</td>\n",
       "      <td>...</td>\n",
       "      <td>1</td>\n",
       "      <td>1</td>\n",
       "      <td>3</td>\n",
       "      <td>0</td>\n",
       "      <td>504</td>\n",
       "      <td>353</td>\n",
       "      <td>660</td>\n",
       "      <td>1</td>\n",
       "      <td>870</td>\n",
       "      <td>782</td>\n",
       "    </tr>\n",
       "    <tr>\n",
       "      <th>1</th>\n",
       "      <td>1</td>\n",
       "      <td>794</td>\n",
       "      <td>31</td>\n",
       "      <td>73.030</td>\n",
       "      <td>0</td>\n",
       "      <td>1</td>\n",
       "      <td>0</td>\n",
       "      <td>100</td>\n",
       "      <td>0</td>\n",
       "      <td>1</td>\n",
       "      <td>...</td>\n",
       "      <td>1</td>\n",
       "      <td>1</td>\n",
       "      <td>3</td>\n",
       "      <td>0</td>\n",
       "      <td>244</td>\n",
       "      <td>225</td>\n",
       "      <td>106</td>\n",
       "      <td>1</td>\n",
       "      <td>708</td>\n",
       "      <td>699</td>\n",
       "    </tr>\n",
       "    <tr>\n",
       "      <th>2</th>\n",
       "      <td>0</td>\n",
       "      <td>957</td>\n",
       "      <td>41</td>\n",
       "      <td>66.226</td>\n",
       "      <td>0</td>\n",
       "      <td>1</td>\n",
       "      <td>1</td>\n",
       "      <td>100</td>\n",
       "      <td>0</td>\n",
       "      <td>1</td>\n",
       "      <td>...</td>\n",
       "      <td>1</td>\n",
       "      <td>1</td>\n",
       "      <td>3</td>\n",
       "      <td>0</td>\n",
       "      <td>401</td>\n",
       "      <td>366</td>\n",
       "      <td>453</td>\n",
       "      <td>1</td>\n",
       "      <td>889</td>\n",
       "      <td>720</td>\n",
       "    </tr>\n",
       "    <tr>\n",
       "      <th>3</th>\n",
       "      <td>1</td>\n",
       "      <td>188</td>\n",
       "      <td>35</td>\n",
       "      <td>78.019</td>\n",
       "      <td>0</td>\n",
       "      <td>1</td>\n",
       "      <td>0</td>\n",
       "      <td>100</td>\n",
       "      <td>0</td>\n",
       "      <td>1</td>\n",
       "      <td>...</td>\n",
       "      <td>1</td>\n",
       "      <td>1</td>\n",
       "      <td>3</td>\n",
       "      <td>0</td>\n",
       "      <td>221</td>\n",
       "      <td>132</td>\n",
       "      <td>-1</td>\n",
       "      <td>0</td>\n",
       "      <td>221</td>\n",
       "      <td>759</td>\n",
       "    </tr>\n",
       "    <tr>\n",
       "      <th>4</th>\n",
       "      <td>1</td>\n",
       "      <td>308</td>\n",
       "      <td>40</td>\n",
       "      <td>83.009</td>\n",
       "      <td>0</td>\n",
       "      <td>1</td>\n",
       "      <td>0</td>\n",
       "      <td>100</td>\n",
       "      <td>0</td>\n",
       "      <td>1</td>\n",
       "      <td>...</td>\n",
       "      <td>1</td>\n",
       "      <td>1</td>\n",
       "      <td>3</td>\n",
       "      <td>1</td>\n",
       "      <td>150</td>\n",
       "      <td>90</td>\n",
       "      <td>20</td>\n",
       "      <td>1</td>\n",
       "      <td>1730</td>\n",
       "      <td>1160</td>\n",
       "    </tr>\n",
       "  </tbody>\n",
       "</table>\n",
       "<p>5 rows × 23 columns</p>\n",
       "</div>"
      ],
      "text/plain": [
       "   censor  event  age    wtkg  hemo  homo  drugs  karnof  oprior  z30  ...  \\\n",
       "0       0   1090   43  66.679     0     1      0     100       0    1  ...   \n",
       "1       1    794   31  73.030     0     1      0     100       0    1  ...   \n",
       "2       0    957   41  66.226     0     1      1     100       0    1  ...   \n",
       "3       1    188   35  78.019     0     1      0     100       0    1  ...   \n",
       "4       1    308   40  83.009     0     1      0     100       0    1  ...   \n",
       "\n",
       "   gender  str2  strat  symptom  cd40  cd420  cd496  r  cd80  cd820  \n",
       "0       1     1      3        0   504    353    660  1   870    782  \n",
       "1       1     1      3        0   244    225    106  1   708    699  \n",
       "2       1     1      3        0   401    366    453  1   889    720  \n",
       "3       1     1      3        0   221    132     -1  0   221    759  \n",
       "4       1     1      3        1   150     90     20  1  1730   1160  \n",
       "\n",
       "[5 rows x 23 columns]"
      ]
     },
     "execution_count": 4,
     "metadata": {},
     "output_type": "execute_result"
    }
   ],
   "source": [
    "data.head()"
   ]
  },
  {
   "cell_type": "code",
   "execution_count": 5,
   "id": "18a36423-11bb-4da5-8030-b12c5dc97c15",
   "metadata": {},
   "outputs": [],
   "source": [
    "Y = data['censor']\n",
    "X = data.drop(columns=['censor'])"
   ]
  },
  {
   "cell_type": "code",
   "execution_count": 6,
   "id": "6b59b5bf-9a28-4d2b-bbfe-40c97c16e696",
   "metadata": {},
   "outputs": [
    {
     "name": "stdout",
     "output_type": "stream",
     "text": [
      "PCA Output shape : (532, 20)\n"
     ]
    }
   ],
   "source": [
    "# PCA Fitting\n",
    "pca = PCA(n_components = 20)\n",
    "X_pca = pca.fit_transform(X)\n",
    "print(\"PCA Output shape : {}\".format(X_pca.shape))"
   ]
  },
  {
   "cell_type": "code",
   "execution_count": 7,
   "id": "df3bee00-c1a5-4e6f-99c8-0b3f875d4504",
   "metadata": {},
   "outputs": [
    {
     "name": "stdout",
     "output_type": "stream",
     "text": [
      "[3.70667749e+05 2.15079584e+05 1.25850077e+05 4.94401844e+04\n",
      " 2.65427579e+04 1.53772678e+04 3.72788149e+03 1.74684229e+02\n",
      " 7.49561262e+01 3.40792676e+01 4.30435656e-01 3.53600862e-01\n",
      " 1.54716691e-01 1.31560844e-01 1.00475447e-01 9.69612401e-02\n",
      " 8.74424005e-02 6.02020237e-02 2.70624219e-02 2.29882002e-02]\n"
     ]
    }
   ],
   "source": [
    "print(pca.explained_variance_)"
   ]
  },
  {
   "cell_type": "code",
   "execution_count": 8,
   "id": "4e29225c-8e28-4903-bca8-ac0a1173d1f4",
   "metadata": {},
   "outputs": [
    {
     "name": "stdout",
     "output_type": "stream",
     "text": [
      "[4.59332351e-01 2.66527130e-01 1.55953713e-01 6.12663934e-02\n",
      " 3.28918484e-02 1.90555467e-02 4.61959956e-03 2.16469110e-04\n",
      " 9.28858089e-05 4.22311090e-05 5.33396883e-07 4.38183024e-07\n",
      " 1.91725289e-07 1.63030509e-07 1.24509412e-07 1.20154598e-07\n",
      " 1.08358829e-07 7.46024902e-08 3.35358172e-08 2.84870320e-08]\n"
     ]
    }
   ],
   "source": [
    "print(pca.explained_variance_ratio_)"
   ]
  },
  {
   "cell_type": "code",
   "execution_count": 9,
   "id": "e89063f1-befa-46ab-8c92-136d64d9c41c",
   "metadata": {},
   "outputs": [
    {
     "data": {
      "text/plain": [
       "0.9999999834255522"
      ]
     },
     "execution_count": 9,
     "metadata": {},
     "output_type": "execute_result"
    }
   ],
   "source": [
    "sum(pca.explained_variance_ratio_)"
   ]
  },
  {
   "cell_type": "code",
   "execution_count": 17,
   "id": "de656147-93fa-480e-a888-c8fcf0ac18b0",
   "metadata": {},
   "outputs": [
    {
     "data": {
      "image/png": "[encoded data removed]",
      "text/plain": [
       "<Figure size 1000x600 with 1 Axes>"
      ]
     },
     "metadata": {},
     "output_type": "display_data"
    }
   ],
   "source": [
    "def scree_plot(pca):\n",
    "    num_components = len(pca.explained_variance_ratio_)\n",
    "    ind = np.arange(num_components)\n",
    "    vals = pca.explained_variance_ratio_\n",
    " \n",
    "    plt.figure(figsize=(10, 6))\n",
    "    ax = plt.subplot(111)\n",
    "    cumvals = np.cumsum(vals)\n",
    "    ax.bar(ind, vals)\n",
    "    ax.plot(ind, cumvals)\n",
    "    for i in range(num_components):\n",
    "        ax.annotate(r\"%s%%\" % ((str(round(vals[i]*100,1))[:3])), (ind[i]+0.2, vals[i]), \n",
    "                    va=\"bottom\", \n",
    "                    ha=\"center\", \n",
    "                    fontsize=8)\n",
    " \n",
    "    ax.xaxis.set_tick_params(width=0)\n",
    "    ax.yaxis.set_tick_params(width=1, length=6)\n",
    " \n",
    "    ax.set_xlabel(\"Principal Component\")\n",
    "    ax.set_ylabel(\"Variance Explained (%)\")\n",
    "    plt.title('Explained Variance Per Principal Component')\n",
    "scree_plot(pca)"
   ]
  },
  {
   "cell_type": "code",
   "execution_count": 23,
   "id": "2d266238-fb33-4a75-a882-b00e2631ad3f",
   "metadata": {},
   "outputs": [
    {
     "name": "stdout",
     "output_type": "stream",
     "text": [
      "   1st_principal  2nd_principal  label\n",
      "0    -138.883508     954.235639    0.0\n",
      "1    -332.883126     582.764805    1.0\n",
      "2    -162.796877     946.129985    0.0\n",
      "3    -628.525758     670.525096    1.0\n",
      "4     749.795431     605.104075    1.0\n"
     ]
    }
   ],
   "source": [
    "new_coordinates = np.vstack((X_pca[:,:2].T, Y)).T\n",
    "dataframe = pd.DataFrame(data=new_coordinates, columns=(\"1st_principal\", \"2nd_principal\", \"label\"))\n",
    "print(dataframe.head())"
   ]
  },
  {
   "cell_type": "code",
   "execution_count": 24,
   "id": "828165f1-ff9c-47df-b537-47ad41af8a8d",
   "metadata": {},
   "outputs": [
    {
     "ename": "TypeError",
     "evalue": "FacetGrid.__init__() got an unexpected keyword argument 'size'",
     "output_type": "error",
     "traceback": [
      "\u001b[1;31m---------------------------------------------------------------------------\u001b[0m",
      "\u001b[1;31mTypeError\u001b[0m                                 Traceback (most recent call last)",
      "Cell \u001b[1;32mIn[24], line 1\u001b[0m\n\u001b[1;32m----> 1\u001b[0m \u001b[43msns\u001b[49m\u001b[38;5;241;43m.\u001b[39;49m\u001b[43mFacetGrid\u001b[49m\u001b[43m(\u001b[49m\u001b[43mdataframe\u001b[49m\u001b[43m,\u001b[49m\u001b[43m \u001b[49m\u001b[43mhue\u001b[49m\u001b[38;5;241;43m=\u001b[39;49m\u001b[38;5;124;43m\"\u001b[39;49m\u001b[38;5;124;43mlabel\u001b[39;49m\u001b[38;5;124;43m\"\u001b[39;49m\u001b[43m,\u001b[49m\u001b[43m \u001b[49m\u001b[43msize\u001b[49m\u001b[38;5;241;43m=\u001b[39;49m\u001b[38;5;241;43m10\u001b[39;49m\u001b[43m)\u001b[49m\u001b[38;5;241m.\u001b[39mmap(plt\u001b[38;5;241m.\u001b[39mscatter, \u001b[38;5;124m'\u001b[39m\u001b[38;5;124m1st_principal\u001b[39m\u001b[38;5;124m'\u001b[39m, \u001b[38;5;124m'\u001b[39m\u001b[38;5;124m2nd_principal\u001b[39m\u001b[38;5;124m'\u001b[39m)\u001b[38;5;241m.\u001b[39madd_legend()\n\u001b[0;32m      2\u001b[0m plt\u001b[38;5;241m.\u001b[39mshow()\n",
      "\u001b[1;31mTypeError\u001b[0m: FacetGrid.__init__() got an unexpected keyword argument 'size'"
     ]
    }
   ],
   "source": [
    "sns.FacetGrid(dataframe, hue=\"label\", size=10).map(plt.scatter, '1st_principal', '2nd_principal').add_legend()\n",
    "plt.show()"
   ]
  }
 ],
 "metadata": {
  "kernelspec": {
   "display_name": "Python 3 (ipykernel)",
   "language": "python",
   "name": "python3"
  },
  "language_info": {
   "codemirror_mode": {
    "name": "ipython",
    "version": 3
   },
   "file_extension": ".py",
   "mimetype": "text/x-python",
   "name": "python",
   "nbconvert_exporter": "python",
   "pygments_lexer": "ipython3",
   "version": "3.10.11"
  }
 },
 "nbformat": 4,
 "nbformat_minor": 5
}
